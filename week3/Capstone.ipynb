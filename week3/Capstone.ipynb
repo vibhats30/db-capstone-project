{
 "cells": [
  {
   "cell_type": "code",
   "execution_count": 1,
   "id": "add0d7e9-ec9d-40e8-a213-ac1174e91252",
   "metadata": {},
   "outputs": [],
   "source": [
    "import mysql.connector as connector"
   ]
  },
  {
   "cell_type": "code",
   "execution_count": 2,
   "id": "45d4bb49-91f4-401d-9729-5f9dae53db9f",
   "metadata": {},
   "outputs": [],
   "source": [
    "connection = connector.connect(user=\"python-client\",password=\"admin1234\",db=\"LittleLemonDB\" )"
   ]
  },
  {
   "cell_type": "code",
   "execution_count": 3,
   "id": "5ef90aa0-a6ca-4006-a5e1-fb999dd457d0",
   "metadata": {},
   "outputs": [],
   "source": [
    "cursor = connection.cursor(buffered=True)"
   ]
  },
  {
   "cell_type": "code",
   "execution_count": 4,
   "id": "3434ee67-3d63-4578-92b1-6d8f1ceede53",
   "metadata": {},
   "outputs": [],
   "source": [
    "show_tables_query = \"SHOW tables\" \n",
    "cursor.execute(show_tables_query)"
   ]
  },
  {
   "cell_type": "code",
   "execution_count": 5,
   "id": "1282b48d-19bf-402e-adda-e3351e242cb8",
   "metadata": {},
   "outputs": [
    {
     "name": "stdout",
     "output_type": "stream",
     "text": [
      "('Bookings',)\n",
      "('Course',)\n",
      "('Customers',)\n",
      "('Menu',)\n",
      "('MenuType',)\n",
      "('OrderDeliveryStatus',)\n",
      "('Orders',)\n",
      "('ordersview',)\n",
      "('Staff',)\n"
     ]
    }
   ],
   "source": [
    "for result in cursor:\n",
    "    print(result)"
   ]
  },
  {
   "cell_type": "code",
   "execution_count": 6,
   "id": "4eb06fe4-47fa-40d2-927d-43b5a9af262f",
   "metadata": {},
   "outputs": [],
   "source": [
    "query_customer_details = \"\"\"select concat(a.firstName,\" \",a.lastName) as 'Full Name', a.phone, a.email from Customers a \n",
    "inner join bookings b on a.customerid = b.customerid\n",
    "inner join orders c on b.bookingid = c.bookingid\n",
    "where c.totalCost > 60\"\"\"\n",
    "                                                "
   ]
  },
  {
   "cell_type": "code",
   "execution_count": 7,
   "id": "32b03cdb-82d2-4b1c-9eec-3a8243c61dde",
   "metadata": {},
   "outputs": [],
   "source": [
    "cursor.execute(query_customer_details)"
   ]
  },
  {
   "cell_type": "code",
   "execution_count": 8,
   "id": "0d72b2d6-830e-43cb-9e14-2068456bac80",
   "metadata": {},
   "outputs": [
    {
     "name": "stdout",
     "output_type": "stream",
     "text": [
      "('Laurence Kresnyak', '78292032', 'laurence@capstone.com')\n",
      "('Nick Toft', '37203930', 'nick@capstone.com')\n",
      "('Sandy Pirie', '12345326', 'sandy@capstone.com')\n",
      "('Sandy Pirie', '12345326', 'sandy@capstone.com')\n"
     ]
    }
   ],
   "source": [
    "for result in cursor:\n",
    "    print(result)"
   ]
  },
  {
   "cell_type": "code",
   "execution_count": null,
   "id": "23d37699-956b-4ec7-a999-6262e7135fd1",
   "metadata": {},
   "outputs": [],
   "source": []
  }
 ],
 "metadata": {
  "kernelspec": {
   "display_name": "Python 3 (ipykernel)",
   "language": "python",
   "name": "python3"
  },
  "language_info": {
   "codemirror_mode": {
    "name": "ipython",
    "version": 3
   },
   "file_extension": ".py",
   "mimetype": "text/x-python",
   "name": "python",
   "nbconvert_exporter": "python",
   "pygments_lexer": "ipython3",
   "version": "3.12.2"
  }
 },
 "nbformat": 4,
 "nbformat_minor": 5
}
